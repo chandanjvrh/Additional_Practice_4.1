{
 "cells": [
  {
   "cell_type": "markdown",
   "metadata": {},
   "source": [
    "#### 1) Write a Python program which accepts a list named : randomList = ['a', 0,2].  Use exception handling using try-catch which gives the output as:"
   ]
  },
  {
   "cell_type": "code",
   "execution_count": 75,
   "metadata": {},
   "outputs": [
    {
     "name": "stdout",
     "output_type": "stream",
     "text": [
      "Entry is a\n",
      "Oops! <class 'TypeError'> occured\n",
      "Next Entry\n",
      "Entry is 0\n",
      "Oops! <class 'ZeroDivisionError'> occured\n",
      "Next Entry\n",
      "Entry is 2\n",
      "<class 'int'>\n",
      "The reciprocal of 2 is 0.5\n"
     ]
    }
   ],
   "source": [
    "def execption_function(input_val):\n",
    "    try:\n",
    "        print(\"Entry is \"+ str(input_val))\n",
    "        rec=1/input_val\n",
    "        print(type(input_val))\n",
    "        print(\"The reciprocal of {} is {}\".format(input_val,rec))\n",
    "    except Exception as e:\n",
    "        print(\"Oops! \"+str(type(e))+\" occured\")\n",
    "        print(\"Next Entry\")          \n",
    "randomList=['a',0,2]\n",
    "for i in randomList:  \n",
    "         execption_function(i)"
   ]
  },
  {
   "cell_type": "markdown",
   "metadata": {},
   "source": [
    "#### 2) Array out of Bound Exception \n",
    "#### Write a Python program to give exception “Array Out of Bound” if the user wants to access the elements beyond the list size (use try and except)"
   ]
  },
  {
   "cell_type": "code",
   "execution_count": 2,
   "metadata": {},
   "outputs": [
    {
     "name": "stdout",
     "output_type": "stream",
     "text": [
      "Enter index value :6\n",
      "Array Out of Bound\n"
     ]
    }
   ],
   "source": [
    "sample_list=['a','b','c','d']\n",
    "\n",
    "try:\n",
    "    ind=int(input(\"Enter index value :\"))\n",
    "    if(ind > len(sample_list)):       \n",
    "        raise IndexError(\"Array Out of Bound\")\n",
    "    print(sample_list[ind])  \n",
    "except IndexError as ie:\n",
    "    print(ie)"
   ]
  },
  {
   "cell_type": "markdown",
   "metadata": {},
   "source": [
    "3) Write a python module script that contains fib2() method to calculate the fibonacci series till 1000 and save it as fibo.py.\n",
    "Note : The module created as fibo.py has to be placed in lib folder\n",
    "For linux/ubuntu path = /home/anaconda/lib/python3\n",
    "For Windows path = C:\\Users\\Ajit\\Anaconda3\\Lib"
   ]
  },
  {
   "cell_type": "code",
   "execution_count": 73,
   "metadata": {},
   "outputs": [],
   "source": [
    "import os, sys\n",
    "lib_path = os.path.abspath(os.path.join('C', 'users', 'chandan_j','anaconda3', 'lib'))\n",
    "sys.path.append(lib_path)"
   ]
  },
  {
   "cell_type": "code",
   "execution_count": 74,
   "metadata": {},
   "outputs": [
    {
     "data": {
      "text/plain": [
       "[1, 1, 2, 3, 5, 8, 13, 21, 34, 55, 89, 144, 233, 377, 610, 987]"
      ]
     },
     "execution_count": 74,
     "metadata": {},
     "output_type": "execute_result"
    }
   ],
   "source": [
    "import fibo\n",
    "fib2(1000)"
   ]
  },
  {
   "cell_type": "markdown",
   "metadata": {},
   "source": [
    "4) Write a python module script that contains ispalindrome() method to calculate the input string as palindrome string or not and save it as palindrome.py"
   ]
  },
  {
   "cell_type": "code",
   "execution_count": 1,
   "metadata": {},
   "outputs": [
    {
     "name": "stdout",
     "output_type": "stream",
     "text": [
      "Enter String to check for palindrome:level\n",
      "It is a palindrome\n"
     ]
    }
   ],
   "source": [
    "import palindrome"
   ]
  }
 ],
 "metadata": {
  "kernelspec": {
   "display_name": "Python 3",
   "language": "python",
   "name": "python3"
  },
  "language_info": {
   "codemirror_mode": {
    "name": "ipython",
    "version": 3
   },
   "file_extension": ".py",
   "mimetype": "text/x-python",
   "name": "python",
   "nbconvert_exporter": "python",
   "pygments_lexer": "ipython3",
   "version": "3.7.0"
  }
 },
 "nbformat": 4,
 "nbformat_minor": 2
}
